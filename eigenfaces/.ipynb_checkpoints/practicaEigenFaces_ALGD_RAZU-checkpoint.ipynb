{
 "cells": [
  {
   "cell_type": "markdown",
   "id": "psychological-nelson",
   "metadata": {},
   "source": [
    "# Práctica EigenFaces\n",
    "## Gabriel Daniel Aguilar Luna, Zuriel Uzai Rodrígez Agiss\n",
    "### _Facultad de Ingenierría, Universidad Nacional Autónoma de México_\n",
    "### _Ciudad de México, México_\n",
    "#### gabriel.aguilar@ingenieria.unam.edu,  zurieluzai2015@gmail.com\n",
    "\n",
    "***\n",
    "\n",
    "### __Desarrollo__\n",
    "\n",
    "##### Imports y funciones"
   ]
  },
  {
   "cell_type": "code",
   "execution_count": 1,
   "id": "ranging-nothing",
   "metadata": {},
   "outputs": [],
   "source": [
    "import sys\n",
    "import numpy as np\n",
    "import os, random\n",
    "import matplotlib.pyplot as plt\n",
    "from PIL import Image"
   ]
  },
  {
   "cell_type": "code",
   "execution_count": 2,
   "id": "extensive-scale",
   "metadata": {},
   "outputs": [],
   "source": [
    "original_images = []\n",
    "basedir = './rawdata/'\n",
    "files = []\n",
    "for i in range(200):\n",
    "    file = random.choice([x for x in os.listdir(basedir) if os.path.isfile(os.path.join(basedir, x))])\n",
    "    if file not in files:\n",
    "        files.append(file)\n",
    "        with open(basedir+file, 'rb') as image_file:\n",
    "            original_images.append(np.array(Image.frombytes(\"L\", (128, 128), image_file.read())))\n",
    "    "
   ]
  },
  {
   "cell_type": "code",
   "execution_count": 3,
   "id": "signal-steering",
   "metadata": {},
   "outputs": [
    {
     "data": {
      "image/png": "[encoded data removed]",
      "text/plain": [
       "<Figure size 432x288 with 1 Axes>"
      ]
     },
     "metadata": {
      "needs_background": "light"
     },
     "output_type": "display_data"
    }
   ],
   "source": [
    "plt.imshow(original_images[0], cmap='gray')\n",
    "plt.show()"
   ]
  },
  {
   "cell_type": "code",
   "execution_count": 4,
   "id": "described-excitement",
   "metadata": {},
   "outputs": [
    {
     "name": "stdout",
     "output_type": "stream",
     "text": [
      "\n",
      "==> Least common image size: 128 x 128 pixels\n"
     ]
    }
   ],
   "source": [
    "min_rows, min_cols = sys.maxsize, sys.maxsize\n",
    "max_rows, max_cols = 0, 0\n",
    "for (i, image) in enumerate(original_images):\n",
    "    r, c = image.shape[0], image.shape[1]    \n",
    "    min_rows = min(min_rows, r)\n",
    "    max_rows = max(max_rows, r)\n",
    "    min_cols = min(min_cols, c)\n",
    "    max_cols = max(max_cols, c)\n",
    "    \n",
    "print(\"\\n==> Least common image size:\", min_rows, \"x\", min_cols, \"pixels\")"
   ]
  },
  {
   "cell_type": "code",
   "execution_count": 5,
   "id": "clinical-conducting",
   "metadata": {},
   "outputs": [
    {
     "ename": "NameError",
     "evalue": "name 'image0' is not defined",
     "output_type": "error",
     "traceback": [
      "\u001b[1;31m---------------------------------------------------------------------------\u001b[0m",
      "\u001b[1;31mNameError\u001b[0m                                 Traceback (most recent call last)",
      "\u001b[1;32m<ipython-input-5-0d951ed01fe3>\u001b[0m in \u001b[0;36m<module>\u001b[1;34m\u001b[0m\n\u001b[0;32m      8\u001b[0m     \u001b[1;32mreturn\u001b[0m \u001b[0mimage\u001b[0m\u001b[1;33m[\u001b[0m\u001b[0mtop\u001b[0m\u001b[1;33m:\u001b[0m\u001b[0mbot\u001b[0m\u001b[1;33m,\u001b[0m \u001b[0mleft\u001b[0m\u001b[1;33m:\u001b[0m\u001b[0mright\u001b[0m\u001b[1;33m]\u001b[0m\u001b[1;33m\u001b[0m\u001b[1;33m\u001b[0m\u001b[0m\n\u001b[0;32m      9\u001b[0m \u001b[1;33m\u001b[0m\u001b[0m\n\u001b[1;32m---> 10\u001b[1;33m \u001b[0mimage0_recentered\u001b[0m \u001b[1;33m=\u001b[0m \u001b[0mrecenter\u001b[0m\u001b[1;33m(\u001b[0m\u001b[0mimage0\u001b[0m\u001b[1;33m,\u001b[0m \u001b[0mmin_rows\u001b[0m\u001b[1;33m,\u001b[0m \u001b[0mmin_cols\u001b[0m\u001b[1;33m)\u001b[0m\u001b[1;33m\u001b[0m\u001b[1;33m\u001b[0m\u001b[0m\n\u001b[0m\u001b[0;32m     11\u001b[0m \u001b[0mfig\u001b[0m\u001b[1;33m,\u001b[0m \u001b[0maxs\u001b[0m \u001b[1;33m=\u001b[0m \u001b[0mplt\u001b[0m\u001b[1;33m.\u001b[0m\u001b[0msubplots\u001b[0m\u001b[1;33m(\u001b[0m\u001b[1;36m1\u001b[0m\u001b[1;33m,\u001b[0m \u001b[1;36m2\u001b[0m\u001b[1;33m,\u001b[0m \u001b[0mfigsize\u001b[0m\u001b[1;33m=\u001b[0m\u001b[1;33m(\u001b[0m\u001b[1;36m10\u001b[0m\u001b[1;33m,\u001b[0m \u001b[1;36m5\u001b[0m\u001b[1;33m)\u001b[0m\u001b[1;33m)\u001b[0m\u001b[1;33m\u001b[0m\u001b[1;33m\u001b[0m\u001b[0m\n\u001b[0;32m     12\u001b[0m \u001b[0mimshow_gray\u001b[0m\u001b[1;33m(\u001b[0m\u001b[0mimage0\u001b[0m\u001b[1;33m,\u001b[0m \u001b[0max\u001b[0m\u001b[1;33m=\u001b[0m\u001b[0maxs\u001b[0m\u001b[1;33m[\u001b[0m\u001b[1;36m0\u001b[0m\u001b[1;33m]\u001b[0m\u001b[1;33m)\u001b[0m\u001b[1;33m\u001b[0m\u001b[1;33m\u001b[0m\u001b[0m\n",
      "\u001b[1;31mNameError\u001b[0m: name 'image0' is not defined"
     ]
    }
   ],
   "source": [
    "def recenter(image, min_rows, min_cols):\n",
    "    r, c = image.shape\n",
    "    top, bot, left, right = 0, r, 0, c\n",
    "    if r > min_rows:\n",
    "        top = r - min_rows  \n",
    "    if c > min_cols:\n",
    "        right = min_cols     \n",
    "    return image[top:bot, left:right]\n",
    "\n",
    "image0_recentered = recenter(image0, min_rows, min_cols)\n",
    "fig, axs = plt.subplots(1, 2, figsize=(10, 5))\n",
    "imshow_gray(image0, ax=axs[0])\n",
    "imshow_gray(image0_recentered, ax=axs[1])"
   ]
  },
  {
   "cell_type": "markdown",
   "id": "present-auditor",
   "metadata": {},
   "source": [
    "\n",
    "\n",
    "### Referencias:\n",
    "\n",
    "https://sandipanweb.wordpress.com/2018/01/06/eigenfaces-and-a-simple-face-detector-with-pca-svd-in-python/\n",
    "https://pillow.readthedocs.io/en/stable/reference/Image.html"
   ]
  }
 ],
 "metadata": {
  "kernelspec": {
   "display_name": "Python 3",
   "language": "python",
   "name": "python3"
  },
  "language_info": {
   "codemirror_mode": {
    "name": "ipython",
    "version": 3
   },
   "file_extension": ".py",
   "mimetype": "text/x-python",
   "name": "python",
   "nbconvert_exporter": "python",
   "pygments_lexer": "ipython3",
   "version": "3.9.0"
  }
 },
 "nbformat": 4,
 "nbformat_minor": 5
}
