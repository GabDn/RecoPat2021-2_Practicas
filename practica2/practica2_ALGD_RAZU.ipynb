{
 "cells": [
  {
   "cell_type": "markdown",
   "id": "unsigned-twist",
   "metadata": {},
   "source": [
    "# Práctica 2: Clasificador Bayesiano\n",
    "## Gabriel Daniel Aguilar Luna, Zuriel Uzai Rodrígez Agiss\n",
    "### _Facultad de Ingenierría, Universidad Nacional Autónoma de México_\n",
    "### _Ciudad de México, México_\n",
    "#### gabriel.aguilar@ingenieria.unam.edu,  zurieluzai2015@gmail.com\n",
    "\n",
    "***\n",
    "\n",
    "### __1. Objetivos__\n",
    "\n",
    "Clasificar imágenes con 2, 3 o 4 regiones utilizando el clasificador de Bayes.\n",
    "\n",
    "***\n",
    "\n",
    "### __2. Introducción__\n",
    "\n",
    "### Clasificador de Bayes\n",
    "\n",
    "**aquí se investiga xd\n",
    "\n",
    "***\n",
    "\n",
    "### __3. Desarrollo__\n",
    "\n",
    "#### __3.1 Realizar preprocesamiento de sus imágenes con un filtro gaussiano__"
   ]
  },
  {
   "cell_type": "code",
   "execution_count": 1,
   "id": "objective-modeling",
   "metadata": {},
   "outputs": [],
   "source": [
    "import matplotlib.pyplot as plt\n",
    "import cv2\n",
    "import skimage as ski\n",
    "import PIL as pil\n",
    "import imageio as io\n",
    "import numpy as np\n",
    "from PIL import Image, ImageFilter\n",
    "from shapely.geometry import Polygon, MultiPolygon\n",
    "from descartes import PolygonPatch\n",
    "\n",
    "# Esta funcion 'desdobla' cadenas para crear un rango y un numero\n",
    "# eg: '100'=mayores que 100, '0-50'= entre 0 y 50, '10-20,500'= entre 10 y 20 o mayores de 500\n",
    "def listRanger(rango: str):\n",
    "    # Separa la cadena por comas\n",
    "    rango = rango.split(',')\n",
    "    # Definicion de las variables de retorno\n",
    "    listarango = []\n",
    "    mayorq = -1\n",
    "    # Recorre las sentencias separadas anteriormente\n",
    "    for x in rango:\n",
    "        # Si la sentencia tiene un '-' es un rango\n",
    "        if '-' in x:\n",
    "            # Los rangos se añaden a la lista listarango\n",
    "            listax = x.split('-')\n",
    "            listarango += list(range(int(listax[0]),int(listax[1])))\n",
    "        # Si no, es una cota inferior\n",
    "        else:\n",
    "            # Solo puede existir una de estas cotas en la sentencia\n",
    "            mayorq = int(x)\n",
    "\n",
    "    return [listarango, mayorq]\n",
    "\n",
    "# Esta función imprime la imagen junto con las curvas de la posición nColl de contornos\n",
    "# Que cumplan con range y retorna un arreglo con dichas curvas.\n",
    "# Se puede especificar los puntos en el perimetro de las lineas con range. eg: range='400-560'\n",
    "# Si no se especifica se utiliza '150'\n",
    "# Se puede especificar un nombre para guardar la imagen resultante con save. eg: save='imagen2.png'\n",
    "# Si no se especifica se utiliza 'ImCrTMP.png'\n",
    "# eg: masker.printImCr(fruta, fruta_contornos, 1, range='200', save='comida_contornos.png')\n",
    "def printImCr(imagen, contornos, nColl, **kwargs):\n",
    "    # Desdobla range\n",
    "    rangolstd = listRanger(kwargs[\"range\"] if (\"range\" in kwargs) else '150')\n",
    "    # Define variable de retorno\n",
    "    curvas_array = []\n",
    "    # Con este for se muestran todas las lineas cuya primera dimension entre en el rango\n",
    "    for i in contornos.collections[nColl].get_paths():\n",
    "        # Si cumple con las caracteristicas indicadas en range se añade al plot y a la var de retorno\n",
    "        if len(i.vertices) in rangolstd[0] or ((len(i.vertices) > rangolstd[1]) if (rangolstd[1] != -1) else (len(i.vertices) > len(i.vertices)+1)):\n",
    "            plt.plot(i.vertices[:,0], i.vertices[:,1], '--b')\n",
    "            curvas_array.append(i.vertices)\n",
    "    # Muestra la imagen\n",
    "    plt.imshow(imagen)\n",
    "    plt.axis('off')\n",
    "    # Salva la imagen\n",
    "    plt.savefig('resultados/'+kwargs[\"save\"] if (\"save\" in kwargs) else 'resultados/ImCrTMP.png', bbox_inches='tight', transparent=False, pad_inches = 0)\n",
    "    # Regresa el arreglo\n",
    "    return curvas_array\n",
    "\n",
    "# Esta función imprime la imagen de fondo junto con los poligonos\n",
    "# Definidos por las curvas en curvas_arr\n",
    "# Retorna un obj Multipolygon\n",
    "def printImPoly(curvas_arr, fondo):\n",
    "    # Arreglo aux\n",
    "    poly_array = []\n",
    "    # Recorre arreglo de curvas\n",
    "    for crvua in curvas_arr:\n",
    "        x = crvua[:,0]\n",
    "        y = crvua[:,1]\n",
    "        poly_array.append(Polygon([(i[0], i[1]) for i in zip(x,y)]))\n",
    "    polygons = MultiPolygon(poly_array)\n",
    "    #len(polygons.geoms)\n",
    "    #polygons\n",
    "    fig = plt.figure() \n",
    "    ax = fig.gca()\n",
    "\n",
    "    # Plotea la imagen de fondo\n",
    "    plt.imshow(fondo)\n",
    "    # Plotea los poligonos\n",
    "    for poly in polygons:\n",
    "        ax.add_patch(PolygonPatch(poly))\n",
    "    #ax.axis('scaled')\n",
    "    plt.show()\n",
    "    # Retorna los poligonos\n",
    "    return polygons\n",
    "\n",
    "def listaPlatanos():\n",
    "    platanos1 = np.array(io.imread('comida-entrenamiento-procesado/Entrenamiento1-platanos.jpg'))\n",
    "    platanos2 = np.array(io.imread('comida-entrenamiento-procesado/Entrenamiento2-platanos.jpg'))\n",
    "    platanos3 = np.array(io.imread('comida-entrenamiento-procesado/Entrenamiento3-platanos.jpg'))\n",
    "    platanos4 = np.array(io.imread('comida-entrenamiento-procesado/Entrenamiento4-platanos.jpg'))\n",
    "    return [platanos1,platanos2,platanos3,platanos4]\n",
    "def listaChiles():\n",
    "    chiles1 = np.array(io.imread('comida-entrenamiento-procesado/Entrenamiento1-chiles.jpg'))\n",
    "    chiles2 = np.array(io.imread('comida-entrenamiento-procesado/Entrenamiento2-chiles.jpg'))\n",
    "    chiles3 = np.array(io.imread('comida-entrenamiento-procesado/Entrenamiento3-chiles.jpg'))\n",
    "    chiles4 = np.array(io.imread('comida-entrenamiento-procesado/Entrenamiento4-chiles.jpg'))\n",
    "    return [chiles1,chiles2,chiles3,chiles4]\n",
    "def listaHuevos():\n",
    "    huevos1 = np.array(io.imread('comida-entrenamiento-procesado/Entrenamiento1-huevos.jpg'))\n",
    "    huevos2 = np.array(io.imread('comida-entrenamiento-procesado/Entrenamiento2-huevos.jpg'))\n",
    "    huevos3 = np.array(io.imread('comida-entrenamiento-procesado/Entrenamiento3-huevos.jpg'))\n",
    "    huevos4 = np.array(io.imread('comida-entrenamiento-procesado/Entrenamiento4-huevos.jpg'))\n",
    "    return [huevos1,huevos2,huevos3,huevos4]\n",
    "def listaFondos():\n",
    "    fondos1 = np.array(io.imread('comida-entrenamiento-procesado/Entrenamiento1-fondos.jpg'))\n",
    "    fondos2 = np.array(io.imread('comida-entrenamiento-procesado/Entrenamiento2-fondos.jpg'))\n",
    "    fondos3 = np.array(io.imread('comida-entrenamiento-procesado/Entrenamiento3-fondos.jpg'))\n",
    "    fondos4 = np.array(io.imread('comida-entrenamiento-procesado/Entrenamiento4-fondos.jpg'))\n",
    "    return [fondos1,fondos2,fondos3,fondos4]\n",
    "\n",
    "def pixelsMatrix(clase):\n",
    "    lista_comida = globals()[\"lista\"+clase]()\n",
    "    #lista_comida = getattr(self, \"lista\"+clase)()\n",
    "    pixeles_comida = []\n",
    "    for platano in lista_comida:\n",
    "        for renglon in platano:\n",
    "            for pixel in renglon:\n",
    "                if pixel.mean() > 0.:\n",
    "                    pixeles_comida.append(pixel)\n",
    "    return np.array(pixeles_comida)\n",
    "\n",
    "def getSigma(matriz_pix):\n",
    "    MU = np.mean(matriz_pix, axis=0)\n",
    "    SIGMA = np.zeros((len(MU),len(MU)))\n",
    "\n",
    "    for pixel in matriz_pix:\n",
    "        P_MU = np.array([pixel-MU])\n",
    "        SIGMA += np.dot(np.transpose(P_MU),P_MU)\n",
    "    \n",
    "    return SIGMA / len(matriz_pix)"
   ]
  },
  {
   "cell_type": "markdown",
   "id": "chubby-sauce",
   "metadata": {},
   "source": [
    "## Prueba para platanos .__________________________________."
   ]
  },
  {
   "cell_type": "code",
   "execution_count": 3,
   "id": "irish-tourist",
   "metadata": {},
   "outputs": [],
   "source": [
    "matriz_platanos = pixelsMatrix('Platanos')"
   ]
  },
  {
   "cell_type": "code",
   "execution_count": 4,
   "id": "colored-accident",
   "metadata": {},
   "outputs": [
    {
     "data": {
      "text/plain": [
       "array([[  0,   1,   0],\n",
       "       [ 37,  35,  36],\n",
       "       [106, 102, 101],\n",
       "       ...,\n",
       "       [  0,   0,   2],\n",
       "       [  0,   0,   2],\n",
       "       [  0,   1,   0]], dtype=uint8)"
      ]
     },
     "execution_count": 4,
     "metadata": {},
     "output_type": "execute_result"
    }
   ],
   "source": [
    "matriz_platanos"
   ]
  },
  {
   "cell_type": "code",
   "execution_count": 5,
   "id": "harmful-franklin",
   "metadata": {},
   "outputs": [
    {
     "data": {
      "text/plain": [
       "array([205.6337022 , 184.35238624,  56.05576592])"
      ]
     },
     "execution_count": 5,
     "metadata": {},
     "output_type": "execute_result"
    }
   ],
   "source": [
    "MU_plt = np.mean(matriz_platanos, axis=0)\n",
    "MU_plt"
   ]
  },
  {
   "cell_type": "code",
   "execution_count": 7,
   "id": "composed-suspect",
   "metadata": {},
   "outputs": [
    {
     "data": {
      "text/plain": [
       "array([[2232.82501615, 2182.5387375 ,  760.87007112],\n",
       "       [2182.5387375 , 2280.87210258,  828.45170421],\n",
       "       [ 760.87007112,  828.45170421,  564.21328371]])"
      ]
     },
     "execution_count": 7,
     "metadata": {},
     "output_type": "execute_result"
    }
   ],
   "source": [
    "SIGMA_plt = getSigma(matriz_platanos)\n",
    "SIGMA_plt"
   ]
  },
  {
   "cell_type": "markdown",
   "id": "present-auditor",
   "metadata": {},
   "source": [
    "\n",
    "### Referencias:\n",
    "\n",
    "https://stackoverflow.com/questions/29213238/python-convert-contours-to-image#29214175\n",
    "\n",
    "https://matplotlib.org/stable/api/_as_gen/matplotlib.pyplot.plot.html\n",
    "\n",
    "https://matplotlib.org/stable/api/contour_api.html#matplotlib.contour.QuadContourSet\n",
    "\n",
    "https://www.geeksforgeeks.org/apply-a-gauss-filter-to-an-image-with-python/\n",
    "\n",
    "https://matplotlib.org/stable/api/image_api.html#matplotlib.image.AxesImage\n",
    "\n",
    "https://matplotlib.org/stable/api/_as_gen/matplotlib.pyplot.imshow.html\n",
    "\n",
    "https://matplotlib.org/stable/api/_as_gen/matplotlib.patches.Patch.html\n",
    "\n",
    "https://gis.stackexchange.com/questions/197945/geopandas-polygon-to-matplotlib-patches-polygon-conversion\n",
    "\n",
    "https://automating-gis-processes.github.io/site/notebooks/L1/geometric-objects.html\n",
    "\n",
    "https://shapely.readthedocs.io/en/stable/manual.html\n",
    "\n",
    "https://gis.stackexchange.com/questions/99917/converting-matplotlib-contour-objects-to-shapely-objects\n",
    "\n",
    "https://matplotlib.org/stable/api/path_api.html\n",
    "\n",
    "https://matplotlib.org/stable/api/_as_gen/matplotlib.pyplot.plot.html\n",
    "\n",
    "https://www.geeksforgeeks.org/python-pil-gaussianblur-method/\n",
    "\n",
    "https://stackoverflow.com/questions/34768717/matplotlib-unable-to-save-image-in-same-resolution-as-original-image#34769840\n",
    "\n",
    "https://largeprinting.com/resources/image-resolution-and-dpi.html\n"
   ]
  }
 ],
 "metadata": {
  "kernelspec": {
   "display_name": "Python 3",
   "language": "python",
   "name": "python3"
  },
  "language_info": {
   "codemirror_mode": {
    "name": "ipython",
    "version": 3
   },
   "file_extension": ".py",
   "mimetype": "text/x-python",
   "name": "python",
   "nbconvert_exporter": "python",
   "pygments_lexer": "ipython3",
   "version": "3.9.0"
  }
 },
 "nbformat": 4,
 "nbformat_minor": 5
}
